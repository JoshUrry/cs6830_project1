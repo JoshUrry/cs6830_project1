{
 "cells": [
  {
   "cell_type": "markdown",
   "id": "d037e759",
   "metadata": {},
   "source": [
    "# Project 1 - Baseball  \n",
    "Josh Urry"
   ]
  },
  {
   "cell_type": "code",
   "execution_count": null,
   "id": "7d740d22",
   "metadata": {},
   "outputs": [],
   "source": [
    "# Install packages\n",
    "import pandas as pd\n",
    "import numpy as np\n",
    "import seaborn as sns\n",
    "import matplotlib.pyplot as plt\n",
    "import scipy.stats"
   ]
  },
  {
   "cell_type": "code",
   "execution_count": null,
   "id": "45c8dd2d",
   "metadata": {},
   "outputs": [],
   "source": [
    "# Import data\n",
    "peopleDf = pd.read_csv('baseballdatabank-2022.2/core/People.csv')\n",
    "battingDf = pd.read_csv('baseballdatabank-2022.2/core/Batting.csv')\n",
    "pitchingDf = pd.read_csv('baseballdatabank-2022.2/core/Pitching.csv')\n",
    "teamsDf = pd.read_csv('baseballdatabank-2022.2/core/Teams.csv')\n",
    "salariesDf = pd.read_csv('baseballdatabank-2022.2/contrib/Salaries.csv')"
   ]
  },
  {
   "cell_type": "code",
   "execution_count": null,
   "id": "91337cac",
   "metadata": {},
   "outputs": [],
   "source": [
    "# Set fonts for charts\n",
    "title = {'family':'serif','color':'black','size':20}\n",
    "label = {'family':'serif','color':'black','size':15}"
   ]
  },
  {
   "cell_type": "markdown",
   "id": "c96acc41",
   "metadata": {},
   "source": [
    "## Analysis 1: How does the average strikeouts change over time?"
   ]
  },
  {
   "cell_type": "code",
   "execution_count": null,
   "id": "eed098a9",
   "metadata": {},
   "outputs": [],
   "source": [
    "pitchingDf.head()"
   ]
  },
  {
   "cell_type": "code",
   "execution_count": null,
   "id": "0a4bb4e1",
   "metadata": {
    "scrolled": true
   },
   "outputs": [],
   "source": [
    "# Look at total summary stats\n",
    "pitchingDf.SO.describe()"
   ]
  },
  {
   "cell_type": "code",
   "execution_count": null,
   "id": "404ee68e",
   "metadata": {
    "scrolled": false
   },
   "outputs": [],
   "source": [
    "plt.figure(figsize = (10,6))\n",
    "sns.lineplot(data = pitchingDf, x = \"yearID\", y = \"SO\")\n",
    "plt.xlabel(\"Year\", fontdict = label)\n",
    "plt.ylabel(\"# of Strike Outs\", fontdict = label)\n",
    "plt.title(\"Avg Strike Outs per Year\", fontdict = title)\n",
    "\n",
    "# After looking online, I found the strike zone changed multiple times throughout league history.\n",
    "# Add vertical lines to see if they correspond with the trends.\n",
    "# Orange represents an official \"strike zone\" change\n",
    "# Black represents other rule changes\n",
    "plt.axvline(1887, color = \"grey\", label = \"Strike definition change\")\n",
    "plt.axvline(1894, color = \"grey\")\n",
    "plt.axvline(1899, color = \"grey\")\n",
    "plt.axvline(1901, color = \"grey\")\n",
    "plt.axvline(1907, color = \"grey\")\n",
    "plt.axvline(1910, color = \"grey\")\n",
    "\n",
    "plt.axvline(1950, color = \"orange\", label = \"Strike zone definition change\")\n",
    "plt.axvline(1963, color = \"orange\")\n",
    "plt.axvline(1969, color = \"orange\")\n",
    "plt.axvline(1988, color = \"orange\")\n",
    "plt.axvline(1996, color = \"orange\")\n",
    "\n",
    "plt.legend()\n",
    "\n",
    "plt.savefig('figs/SOperYear.pdf')"
   ]
  },
  {
   "cell_type": "markdown",
   "id": "8bb6c185",
   "metadata": {},
   "source": [
    "Does the throwing hand affect that average?"
   ]
  },
  {
   "cell_type": "code",
   "execution_count": null,
   "id": "073d0791",
   "metadata": {},
   "outputs": [],
   "source": [
    "# Get throwing hand from people dataset\n",
    "pitchingDf = pd.merge(pitchingDf, peopleDf[[\"playerID\", \"throws\"]])"
   ]
  },
  {
   "cell_type": "code",
   "execution_count": null,
   "id": "0aaefd2d",
   "metadata": {},
   "outputs": [],
   "source": [
    "# Look at throwning hand values\n",
    "pitchingDf.throws.unique()"
   ]
  },
  {
   "cell_type": "code",
   "execution_count": null,
   "id": "1f74160b",
   "metadata": {
    "scrolled": true
   },
   "outputs": [],
   "source": [
    "# One player shows that their throwing hand is \"S\"\n",
    "pitchingDf[pitchingDf.throws == \"S\"]"
   ]
  },
  {
   "cell_type": "code",
   "execution_count": null,
   "id": "dc63be77",
   "metadata": {},
   "outputs": [],
   "source": [
    "# I can't find what S means, so I am just going to remove them from the analysis\n",
    "pitchingDf = pitchingDf[pitchingDf.throws != \"S\"]"
   ]
  },
  {
   "cell_type": "code",
   "execution_count": null,
   "id": "ce31e7b1",
   "metadata": {
    "scrolled": false
   },
   "outputs": [],
   "source": [
    "plt.figure(figsize = (10,6))\n",
    "sns.lineplot(data = pitchingDf, x = \"yearID\", y = \"SO\", hue = \"throws\", errorbar = None)\n",
    "plt.xlabel(\"Year\", fontdict = label)\n",
    "plt.ylabel(\"# of Strike Outs\", fontdict = label)\n",
    "plt.title(\"Avg Strike Outs per Year by Pitching Hand\", fontdict = title)\n",
    "plt.savefig('figs/SOperYearH.pdf')"
   ]
  },
  {
   "cell_type": "markdown",
   "id": "569ae492",
   "metadata": {},
   "source": [
    "Look at overall averages for righties and lefties"
   ]
  },
  {
   "cell_type": "code",
   "execution_count": null,
   "id": "1fa220e0",
   "metadata": {},
   "outputs": [],
   "source": [
    "left = pitchingDf[pitchingDf.throws == \"L\"]\n",
    "right = pitchingDf[pitchingDf.throws == \"R\"]\n",
    "leftAvg = left.SO.mean()\n",
    "rightAvg = right.SO.mean()\n",
    "\n",
    "print(\"The average strike outs thrown by lefties is: \", leftAvg)\n",
    "print(\"The average strike outs thrown by righties is: \", rightAvg)\n",
    "\n",
    "# Display t test results\n",
    "# Show t test results\n",
    "display(f'Independent T-test (World Series): {scipy.stats.ttest_ind(left.SO, right.SO)}')"
   ]
  },
  {
   "cell_type": "markdown",
   "id": "ee42fcd7",
   "metadata": {},
   "source": [
    "It looks like throwing hand doesn't make a huge difference, except for the spike around 1890. Overall, it looks like late 1800s to early 1900s players have slightly more strikeouts on average, but there is a lot of variation. Let's look at the players with the most strikeouts. I want to look at the most strike outs in a season, as well as player average. My guess is that the highest strike out counts will come from players from 1870 - 1890."
   ]
  },
  {
   "cell_type": "markdown",
   "id": "06f4f365",
   "metadata": {},
   "source": [
    "## Analysis 2: What players have the highest strikeouts in a season?"
   ]
  },
  {
   "cell_type": "code",
   "execution_count": null,
   "id": "5c1ba7b6",
   "metadata": {
    "scrolled": false
   },
   "outputs": [],
   "source": [
    "# Groupby year\n",
    "pitchMax = pitchingDf[[\"yearID\", \"playerID\", \"SO\"]].groupby(\"playerID\").max().reset_index()\n",
    "pitchMax = pitchMax.sort_values(by = [\"SO\"], ascending = False)"
   ]
  },
  {
   "cell_type": "code",
   "execution_count": null,
   "id": "9bbe217a",
   "metadata": {},
   "outputs": [],
   "source": [
    "# Add name\n",
    "pitchMax = pd.merge(pitchMax, peopleDf[[\"playerID\", \"nameFirst\", \"nameLast\"]], on=\"playerID\")\n",
    "\n",
    "# Combine names\n",
    "pitchMax[\"name\"] = pitchMax.nameFirst + \" \" + pitchMax.nameLast\n",
    "\n",
    "# Drop separate names\n",
    "pitchMax = pitchMax.drop([\"nameFirst\", \"nameLast\"], axis = 1)"
   ]
  },
  {
   "cell_type": "code",
   "execution_count": null,
   "id": "26adcce3",
   "metadata": {
    "scrolled": true
   },
   "outputs": [],
   "source": [
    "# Get top 5\n",
    "topSO = pitchMax.head(5)\n",
    "# Get max year with name for chart\n",
    "dataTypes = {'yearID': str}\n",
    "topSO = topSO.astype(dataTypes)\n",
    "topSO[\"nameYear\"] = topSO.name + \" \" + topSO.yearID"
   ]
  },
  {
   "cell_type": "code",
   "execution_count": null,
   "id": "b781e79f",
   "metadata": {},
   "outputs": [],
   "source": [
    "topSO"
   ]
  },
  {
   "cell_type": "code",
   "execution_count": null,
   "id": "399686ee",
   "metadata": {},
   "outputs": [],
   "source": [
    "plt.figure(figsize = (12,5))\n",
    "sns.barplot(data = topSO, x = \"nameYear\", y = \"SO\")\n",
    "plt.xlabel(\"Player\", fontdict = label)\n",
    "plt.ylabel(\"# of Strike Outs\", fontdict = label)\n",
    "plt.ylim(400, 520)\n",
    "plt.title(\"Top 5 Strike Outs in a Season\", fontdict = title)\n",
    "plt.savefig('figs/MaxSO.pdf')"
   ]
  },
  {
   "cell_type": "markdown",
   "id": "c71f63e3",
   "metadata": {},
   "source": [
    "As suspected, the highest were in the early years. Let's see what the players averages were to see if this was just a fluke."
   ]
  },
  {
   "cell_type": "code",
   "execution_count": null,
   "id": "6f2f7bd8",
   "metadata": {},
   "outputs": [],
   "source": [
    "pitchAvg = pitchingDf[[\"playerID\", \"SO\"]].groupby(\"playerID\").mean().reset_index()\n",
    "# Rename SO column\n",
    "pitchAvg.rename(columns = {\"SO\":\"AvgSO\"}, inplace = True)"
   ]
  },
  {
   "cell_type": "code",
   "execution_count": null,
   "id": "b9a4f3ed",
   "metadata": {},
   "outputs": [],
   "source": [
    "# Rename max\n",
    "pitchMax.rename(columns = {\"SO\":\"MaxSO\"}, inplace = True)"
   ]
  },
  {
   "cell_type": "code",
   "execution_count": null,
   "id": "34b18396",
   "metadata": {},
   "outputs": [],
   "source": [
    "# Merge the average with the max\n",
    "pitchMax = pd.merge(pitchMax, pitchAvg, on=\"playerID\")\n",
    "topSO = pitchMax.head()"
   ]
  },
  {
   "cell_type": "code",
   "execution_count": null,
   "id": "e70ab400",
   "metadata": {
    "scrolled": false
   },
   "outputs": [],
   "source": [
    "# Overlay two bar charts\n",
    "plt.figure(figsize = (12,5))\n",
    "\n",
    "sns.barplot(data = topSO, x = \"name\", y = \"MaxSO\", color = \"blue\", alpha = .75, label = \"Max\")\n",
    "sns.barplot(data = topSO, x = \"name\", y = \"AvgSO\", color = \"orange\", label = \"Avg\")\n",
    "\n",
    "plt.legend()\n",
    "plt.xlabel(\"Player\", fontdict = label)\n",
    "plt.ylabel(\"# of Strike Outs\", fontdict = label)\n",
    "plt.title(\"Top 5 Strike Outs in a Season with Career Avg\", fontdict = title)\n",
    "plt.savefig('figs/MaxAvgSO.pdf')"
   ]
  },
  {
   "cell_type": "markdown",
   "id": "72fc48b5",
   "metadata": {},
   "source": [
    "Now let's see who has the highest averages, and if they are still in the early years"
   ]
  },
  {
   "cell_type": "code",
   "execution_count": null,
   "id": "43c8416c",
   "metadata": {},
   "outputs": [],
   "source": [
    "pitchMax = pitchMax.sort_values(by = [\"AvgSO\"], ascending = False)"
   ]
  },
  {
   "cell_type": "code",
   "execution_count": null,
   "id": "156d9735",
   "metadata": {},
   "outputs": [],
   "source": [
    "topSO = pitchMax.head(5)\n",
    "topSO"
   ]
  },
  {
   "cell_type": "code",
   "execution_count": null,
   "id": "d856a18c",
   "metadata": {
    "scrolled": false
   },
   "outputs": [],
   "source": [
    "plt.figure(figsize = (12,5))\n",
    "sns.barplot(data = topSO, x = \"name\", y = \"AvgSO\")\n",
    "plt.xlabel(\"Player\", fontdict = label)\n",
    "plt.ylabel(\"Avg # of Strike Outs\", fontdict = label)\n",
    "plt.ylim(150, 220)\n",
    "plt.title(\"Top 5 Strike Out Avgs of All Time\", fontdict = title)\n",
    "plt.savefig('figs/TopAvgSO.pdf')"
   ]
  },
  {
   "cell_type": "markdown",
   "id": "d18b594b",
   "metadata": {},
   "source": [
    "## Analysis 3: Do lighter players steal bases more often?\n",
    "I am assuming lighter players are quicker, so they would be more likely to steal."
   ]
  },
  {
   "cell_type": "code",
   "execution_count": null,
   "id": "f922b43c",
   "metadata": {
    "scrolled": false
   },
   "outputs": [],
   "source": [
    "# First, get a histogram of weights\n",
    "plt.figure(figsize = (8,6))\n",
    "sns.histplot(data = peopleDf, x = \"weight\", bins = 50)\n",
    "plt.xlabel(\"Player Weight\", fontdict = label)\n",
    "plt.ylabel(\"Count\", fontdict = label)\n",
    "plt.title(\"Histogram of Player Weights\", fontdict = title)\n",
    "plt.savefig('figs/WeightHist.pdf')"
   ]
  },
  {
   "cell_type": "code",
   "execution_count": null,
   "id": "039edf5a",
   "metadata": {},
   "outputs": [],
   "source": [
    "peopleDf.weight.describe()"
   ]
  },
  {
   "cell_type": "code",
   "execution_count": null,
   "id": "6e7483b4",
   "metadata": {},
   "outputs": [],
   "source": [
    "# First, get everyone's average stolen bases since the batting table has multiple years and there is only one weight\n",
    "stealBs = battingDf[[\"playerID\", \"SB\"]].groupby(\"playerID\").mean().reset_index()\n",
    "# merge weight with batting table \n",
    "stealBs = pd.merge(stealBs, peopleDf[[\"playerID\", \"weight\"]], on = \"playerID\")"
   ]
  },
  {
   "cell_type": "code",
   "execution_count": null,
   "id": "16e2f253",
   "metadata": {
    "scrolled": true
   },
   "outputs": [],
   "source": [
    "# Let's just look at everyone that averaged at least 5 stolen bases a season (and drop any nans)\n",
    "stealBs = stealBs[stealBs.SB >= 5].dropna()\n",
    "print(len(stealBs), \"players averaged at least 5 stolen base per season\")"
   ]
  },
  {
   "cell_type": "code",
   "execution_count": null,
   "id": "65d510b4",
   "metadata": {},
   "outputs": [],
   "source": [
    "plt.figure(figsize = (12,7))\n",
    "sns.scatterplot(data = stealBs, x = \"weight\", y = \"SB\", s = 75)\n",
    "plt.xlabel(\"Player Weight\", fontdict = label)\n",
    "plt.ylabel(\"Avg Stolen Bases per Season\", fontdict = label)\n",
    "display(f'Pearson r correlation: {scipy.stats.pearsonr(stealBs.weight, stealBs.SB)}')\n",
    "plt.title(\"Player Weight vs Bases Stolen per Season\", fontdict = title)\n",
    "plt.savefig('figs/WeightVsSB.pdf')"
   ]
  },
  {
   "cell_type": "markdown",
   "id": "4725eb17",
   "metadata": {},
   "source": [
    "Conversely, do heavier players get caught stealing bases more often?"
   ]
  },
  {
   "cell_type": "code",
   "execution_count": null,
   "id": "55248300",
   "metadata": {},
   "outputs": [],
   "source": [
    "# First, get everyone's average stolen bases since the batting table has multiple years and there is only one weight\n",
    "caught = battingDf[[\"playerID\", \"SB\", \"CS\"]].groupby(\"playerID\").mean().reset_index()\n",
    "# merge weight with batting table \n",
    "caught = pd.merge(caught, peopleDf[[\"playerID\", \"weight\"]], on = \"playerID\")"
   ]
  },
  {
   "cell_type": "code",
   "execution_count": null,
   "id": "f77221b1",
   "metadata": {
    "scrolled": false
   },
   "outputs": [],
   "source": [
    "# Let's just look at everyone that averaged at least 5 stolen bases a season (and drop any nans)\n",
    "caught = caught[caught.SB >= 5].dropna()\n",
    "print(len(caught), \"players averaged at least 5 stolen base per season\")"
   ]
  },
  {
   "cell_type": "code",
   "execution_count": null,
   "id": "814cefba",
   "metadata": {},
   "outputs": [],
   "source": [
    "# Look at descriptives\n",
    "caught.CS.describe()"
   ]
  },
  {
   "cell_type": "code",
   "execution_count": null,
   "id": "2e99fd44",
   "metadata": {
    "scrolled": false
   },
   "outputs": [],
   "source": [
    "plt.figure(figsize = (12,7))\n",
    "sns.scatterplot(data = caught, x = \"weight\", y = \"CS\", s = 75, color = \"orange\")\n",
    "plt.xlabel(\"Player Weight\", fontdict = label)\n",
    "plt.ylabel(\"Times Caught Stealing per Season\", fontdict = label)\n",
    "display(f'Pearson r correlation: {scipy.stats.pearsonr(caught.weight, caught.CS)}')\n",
    "plt.title(\"Player Weight vs Times Caught Stealing per Season\", fontdict = title)\n",
    "plt.savefig('figs/WeightVsCS.pdf')"
   ]
  },
  {
   "cell_type": "markdown",
   "id": "b6b143ec",
   "metadata": {},
   "source": [
    "Nope, there is actually more of a chance that lighter players will. It looks like it's related to attempts more than anything. High risk, high reward."
   ]
  },
  {
   "cell_type": "markdown",
   "id": "270ab157",
   "metadata": {},
   "source": [
    "## Analysis 4: Which teams pay players the most?"
   ]
  },
  {
   "cell_type": "code",
   "execution_count": null,
   "id": "83c8cf7a",
   "metadata": {
    "scrolled": true
   },
   "outputs": [],
   "source": [
    "salariesDf.head()"
   ]
  },
  {
   "cell_type": "code",
   "execution_count": null,
   "id": "6ecf6b59",
   "metadata": {
    "scrolled": false
   },
   "outputs": [],
   "source": [
    "teamsDf.head()"
   ]
  },
  {
   "cell_type": "code",
   "execution_count": null,
   "id": "cd7169f4",
   "metadata": {
    "scrolled": false
   },
   "outputs": [],
   "source": [
    "teamsDf.name.unique()"
   ]
  },
  {
   "cell_type": "markdown",
   "id": "b046c256",
   "metadata": {},
   "source": [
    "That is a lot of teams. Let's just look at teams since 2010"
   ]
  },
  {
   "cell_type": "code",
   "execution_count": null,
   "id": "d2b8524e",
   "metadata": {},
   "outputs": [],
   "source": [
    "teams10 = teamsDf[teamsDf.yearID >= 2010 ]\n",
    "salaries10 = salariesDf[salariesDf.yearID >= 2010]"
   ]
  },
  {
   "cell_type": "code",
   "execution_count": null,
   "id": "a998bfc9",
   "metadata": {
    "scrolled": true
   },
   "outputs": [],
   "source": [
    "teams10.name.unique()"
   ]
  },
  {
   "cell_type": "code",
   "execution_count": null,
   "id": "0e44e69b",
   "metadata": {
    "scrolled": true
   },
   "outputs": [],
   "source": [
    "salaries10 = pd.merge(salaries10, teams10[[\"teamID\", \"yearID\", \"name\", \"W\", \"R\", \"AB\", \"H\", \"DivWin\",\n",
    "                                          \"WCWin\", \"LgWin\", \"WSWin\"]], on = [\"yearID\", \"teamID\"])"
   ]
  },
  {
   "cell_type": "code",
   "execution_count": null,
   "id": "cd4ed26c",
   "metadata": {},
   "outputs": [],
   "source": [
    "salaries10.head()"
   ]
  },
  {
   "cell_type": "code",
   "execution_count": null,
   "id": "e2da20f5",
   "metadata": {},
   "outputs": [],
   "source": [
    "plt.figure(figsize = (10,10))\n",
    "\n",
    "# Get order\n",
    "medSal = salaries10[[\"name\", \"salary\"]].groupby(\"name\").median().sort_values(by = [\"salary\"], ascending = False)\n",
    "order = medSal.index\n",
    "\n",
    "sns.boxplot(data = salaries10, x =\"salary\", y =  \"name\", fliersize=0, order = order)\n",
    "plt.xlabel(\"Player Salary\", fontdict = label)\n",
    "plt.ylabel(\"Team\", fontdict = label)\n",
    "plt.title(\"Salary Distribution by Team Since 2010\", fontdict = title)\n",
    "plt.savefig('figs/SalaryByTeam.pdf', bbox_inches='tight')"
   ]
  },
  {
   "cell_type": "markdown",
   "id": "a76b54f6",
   "metadata": {},
   "source": [
    "Do teams that win the world series pay their players more?"
   ]
  },
  {
   "cell_type": "code",
   "execution_count": null,
   "id": "aa096cca",
   "metadata": {
    "scrolled": false
   },
   "outputs": [],
   "source": [
    "wonWS = salaries10[salaries10.WCWin == \"Y\"]\n",
    "noWS = salaries10[salaries10.WCWin == \"N\"]\n",
    "\n",
    "plt.figure(figsize = (8,6))\n",
    "sns.kdeplot(data = wonWS, x =\"salary\", label = \"Won World Series\")\n",
    "sns.kdeplot(data = noWS, x =\"salary\", label = \"Did Not Win World Series\")\n",
    "plt.xlabel(\"Player Salary\", fontdict = label)\n",
    "plt.ylabel(\"Density\", fontdict = label)\n",
    "plt.xlim(-5000000, 20000000)\n",
    "plt.legend()\n",
    "plt.title(\"Teams that Did and Did Not Win the World Series\", fontdict = title)\n",
    "plt.savefig('figs/SalaryByWS.pdf')"
   ]
  },
  {
   "cell_type": "markdown",
   "id": "3617215b",
   "metadata": {},
   "source": [
    "What about any winner?"
   ]
  },
  {
   "cell_type": "code",
   "execution_count": null,
   "id": "a4230215",
   "metadata": {},
   "outputs": [],
   "source": [
    "# Create a column to show if they won anything\n",
    "conditions = [\n",
    "    ((salaries10.DivWin == \"Y\") | (salaries10.WCWin == \"Y\") | (salaries10.LgWin == \"Y\") | (salaries10.WSWin == \"Y\")),\n",
    "    ((salaries10.DivWin != \"Y\") & (salaries10.WCWin != \"Y\") & (salaries10.LgWin != \"Y\") & (salaries10.WSWin != \"Y\"))\n",
    "]\n",
    "# tasks corresponding to above conditions\n",
    "result = [\"Y\", \"N\"]\n",
    "salaries10[\"AnyWin\"] = np.select(conditions, result)"
   ]
  },
  {
   "cell_type": "code",
   "execution_count": null,
   "id": "c5ce1764",
   "metadata": {
    "scrolled": true
   },
   "outputs": [],
   "source": [
    "salaries10.head()"
   ]
  },
  {
   "cell_type": "code",
   "execution_count": null,
   "id": "31efd2b7",
   "metadata": {
    "scrolled": false
   },
   "outputs": [],
   "source": [
    "anyWin = salaries10[salaries10.AnyWin == \"Y\"]\n",
    "noWin = salaries10[salaries10.AnyWin == \"N\"]\n",
    "\n",
    "plt.figure(figsize = (8,6))\n",
    "sns.kdeplot(data = anyWin, x =\"salary\", label = \"Any Win\")\n",
    "sns.kdeplot(data = noWin, x =\"salary\", label = \"No Wins\")\n",
    "plt.xlabel(\"Player Salary\", fontdict = label)\n",
    "plt.ylabel(\"Density\", fontdict = label)\n",
    "plt.xlim(-5000000, 20000000)\n",
    "plt.legend()\n",
    "plt.title(\"Salary Distributions of Any/No Wins\", fontdict = title)\n",
    "plt.savefig('figs/SalaryByAnyWin.pdf')"
   ]
  },
  {
   "cell_type": "code",
   "execution_count": null,
   "id": "3d8d349e",
   "metadata": {},
   "outputs": [],
   "source": [
    "# Show both distributions in the same chart\n",
    "fig, axis = plt.subplots(ncols = 2)\n",
    "sns.kdeplot(data = wonWS, x =\"salary\", label = \"Won World Series\", ax = axis[0])\n",
    "sns.kdeplot(data = noWS, x =\"salary\", label = \"Did Not Win World Series\", ax = axis[0])\n",
    "axis[0].legend()\n",
    "\n",
    "sns.kdeplot(data = anyWin, x =\"salary\", label = \"Any Win\", ax = axis[1])\n",
    "sns.kdeplot(data = noWin, x =\"salary\", label = \"No Wins\", ax = axis[1])\n",
    "axis[1].legend()\n",
    "\n",
    "fig.set_figheight(6)\n",
    "fig.set_figwidth(14)\n",
    "\n",
    "# Show t test results\n",
    "display(f'Independent T-test (World Series): {scipy.stats.ttest_ind(wonWS.salary, noWS.salary)}')\n",
    "display(f'Independent T-test (Any Win): {scipy.stats.ttest_ind(anyWin.salary, noWin.salary)}')"
   ]
  }
 ],
 "metadata": {
  "kernelspec": {
   "display_name": "Python 3 (ipykernel)",
   "language": "python",
   "name": "python3"
  },
  "language_info": {
   "codemirror_mode": {
    "name": "ipython",
    "version": 3
   },
   "file_extension": ".py",
   "mimetype": "text/x-python",
   "name": "python",
   "nbconvert_exporter": "python",
   "pygments_lexer": "ipython3",
   "version": "3.11.1"
  }
 },
 "nbformat": 4,
 "nbformat_minor": 5
}
